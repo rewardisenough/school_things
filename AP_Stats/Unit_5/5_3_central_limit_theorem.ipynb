{
  "nbformat": 4,
  "nbformat_minor": 0,
  "metadata": {
    "colab": {
      "provenance": [],
      "authorship_tag": "ABX9TyOUFraQZ6KNhlupQY0eKcvz",
      "include_colab_link": true
    },
    "kernelspec": {
      "name": "python3",
      "display_name": "Python 3"
    },
    "language_info": {
      "name": "python"
    }
  },
  "cells": [
    {
      "cell_type": "markdown",
      "metadata": {
        "id": "view-in-github",
        "colab_type": "text"
      },
      "source": [
        "<a href=\"https://colab.research.google.com/github/rewardisenough/school_things/blob/main/AP_Stats/Unit_5/5_3_central_limit_theorem.ipynb\" target=\"_parent\"><img src=\"https://colab.research.google.com/assets/colab-badge.svg\" alt=\"Open In Colab\"/></a>"
      ]
    },
    {
      "cell_type": "code",
      "execution_count": 1,
      "metadata": {
        "id": "KX8peTQLLGpz"
      },
      "outputs": [],
      "source": [
        "import random"
      ]
    },
    {
      "cell_type": "code",
      "source": [
        "from numpy import random\n",
        "import matplotlib.pyplot as plt\n",
        "\n",
        "arr = random.normal(size=10000)"
      ],
      "metadata": {
        "id": "DgquNhNCMATd"
      },
      "execution_count": 2,
      "outputs": []
    },
    {
      "cell_type": "code",
      "source": [
        "arr = list(arr)\n",
        "mean_arr = []\n",
        "\n",
        "for i in range(int(10000/100)):\n",
        "  total = 0\n",
        "  for j in range(100):\n",
        "    random_num = random.choice(arr)\n",
        "    arr.remove(random_num)\n",
        "    total += random_num\n",
        "  mean_arr.append(total/2)\n",
        "\n",
        "print(mean_arr)\n",
        "plt.hist(mean_arr)"
      ],
      "metadata": {
        "colab": {
          "base_uri": "https://localhost:8080/",
          "height": 392
        },
        "id": "xVKOpSbkT9Hf",
        "outputId": "ec319a21-88a3-4484-812c-9ad888d8080a"
      },
      "execution_count": 3,
      "outputs": [
        {
          "output_type": "stream",
          "name": "stdout",
          "text": [
            "[5.176147569668906, -3.979668701042905, 3.390706347093614, -0.5688242846807964, -4.134707476247085, -4.884975505508599, -7.846933105809185, 2.486635637164013, -6.71900244450891, 9.749145070061461, 5.180057949152199, 4.780202277518645, -8.260086002326208, -10.283577852827724, -4.329503232843416, -1.4354507600360302, 7.370687038868812, -1.3045340212782994, -2.240222960285019, 1.3440774573345093, -7.378735560382223, -11.360010894272095, -2.864180025664772, 2.573462381787138, 5.7634810404445656, -7.763453674910774, -6.377351970499139, 1.7292054592400772, -4.579971922122053, -2.447757162925904, 4.419125118384574, 0.49554709229237226, 8.027889277422847, -6.917296915403769, 0.34409371534344424, -2.8133461472621146, -4.59119390689479, -2.140913232724164, -2.5848312279572405, -4.0607659846383495, -4.3758476409024505, 3.0434998651087635, 2.379504509148369, -5.300510277545, 2.1701265851640064, 6.529631449356988, -3.0146419341238206, -2.3755584181899487, -0.3027922826319241, -4.591877775666857, -7.215680206341384, 5.019692096308706, -3.389241004314239, 2.454050096538382, 4.9984560326295275, -6.639155125428396, -1.3873671224427802, 1.7462306995983994, 2.1586330314210684, 2.43475245783397, 0.9827499288163086, 4.831163842810663, 2.3283055117323106, 1.4578525361855081, 3.068198432186647, 1.1245527640616089, 0.36092387389400504, -6.329161437793492, 1.9790328278320852, 2.3635002397304223, -15.701202102536511, 10.703211102504541, 1.0267476480444913, 4.8448526871469655, 5.647110990576966, -0.7184667947704222, 0.2457239095402382, -1.1838090117147038, -6.1271112112292005, -0.5727301654385878, 11.562388648446714, -8.621056633394595, -7.459130376759008, -8.522311762180188, 6.850959794252509, 1.323797549136523, -7.090458456865095, -0.9964553020687844, 4.097860668502229, 3.7483358863297678, -6.943993931278664, 1.5655999869353356, -0.6136359071072965, 0.722591037401751, -3.5521878970653384, 5.985248589050207, -4.966106407051501, -1.6241139027840457, -7.805254503215818, -4.225591938137962]\n"
          ]
        },
        {
          "output_type": "execute_result",
          "data": {
            "text/plain": [
              "(array([ 1.,  2.,  6., 14., 19., 15., 22., 14.,  4.,  3.]),\n",
              " array([-15.7012021 , -12.97484303, -10.24848395,  -7.52212488,\n",
              "         -4.7957658 ,  -2.06940673,   0.65695235,   3.38331142,\n",
              "          6.1096705 ,   8.83602957,  11.56238865]),\n",
              " <a list of 10 Patch objects>)"
            ]
          },
          "metadata": {},
          "execution_count": 3
        },
        {
          "output_type": "display_data",
          "data": {
            "text/plain": [
              "<Figure size 432x288 with 1 Axes>"
            ],
            "image/png": "[encoded data removed]"
          },
          "metadata": {
            "needs_background": "light"
          }
        }
      ]
    },
    {
      "cell_type": "code",
      "source": [
        "from scipy.stats import gumbel_l\n",
        "from scipy.stats import gumbel_r\n"
      ],
      "metadata": {
        "id": "7s6K9XHbPgMo"
      },
      "execution_count": 4,
      "outputs": []
    },
    {
      "cell_type": "code",
      "source": [
        "skewed_arr = gumbel_l.rvs(size=10000)\n",
        "plt.hist(skewed_arr)"
      ],
      "metadata": {
        "id": "3bVwIRhePoDi",
        "colab": {
          "base_uri": "https://localhost:8080/",
          "height": 372
        },
        "outputId": "7b111f04-ba57-407f-f9a9-5f2f9453fd49"
      },
      "execution_count": 7,
      "outputs": [
        {
          "output_type": "execute_result",
          "data": {
            "text/plain": [
              "(array([2.000e+00, 5.000e+00, 1.400e+01, 5.600e+01, 1.590e+02, 5.040e+02,\n",
              "        1.454e+03, 3.413e+03, 3.685e+03, 7.080e+02]),\n",
              " array([-9.5740227 , -8.40121926, -7.22841582, -6.05561238, -4.88280894,\n",
              "        -3.7100055 , -2.53720206, -1.36439862, -0.19159518,  0.98120826,\n",
              "         2.1540117 ]),\n",
              " <a list of 10 Patch objects>)"
            ]
          },
          "metadata": {},
          "execution_count": 7
        },
        {
          "output_type": "display_data",
          "data": {
            "text/plain": [
              "<Figure size 432x288 with 1 Axes>"
            ],
            "image/png": "[encoded data removed]"
          },
          "metadata": {
            "needs_background": "light"
          }
        }
      ]
    },
    {
      "cell_type": "code",
      "source": [
        "skewed_arr = list(skewed_arr)\n",
        "mean_arr = []\n",
        "\n",
        "for i in range(int(10000/2)):\n",
        "  total = 0\n",
        "  for j in range(2):\n",
        "    random_num = random.choice(skewed_arr)\n",
        "    skewed_arr.remove(random_num)\n",
        "    total += random_num\n",
        "  mean_arr.append(total/2)\n",
        "\n",
        "plt.hist(mean_arr)"
      ],
      "metadata": {
        "colab": {
          "base_uri": "https://localhost:8080/",
          "height": 375
        },
        "id": "5ZP056bmXQUe",
        "outputId": "12222b8b-04c5-4a91-9afa-4521849ef2bd"
      },
      "execution_count": 6,
      "outputs": [
        {
          "output_type": "execute_result",
          "data": {
            "text/plain": [
              "(array([   3.,    0.,   12.,   39.,  140.,  427., 1091., 1913., 1213.,\n",
              "         162.]),\n",
              " array([-6.52620187e+00, -5.71108232e+00, -4.89596277e+00, -4.08084323e+00,\n",
              "        -3.26572368e+00, -2.45060413e+00, -1.63548458e+00, -8.20365031e-01,\n",
              "        -5.24548290e-03,  8.09874066e-01,  1.62499361e+00]),\n",
              " <a list of 10 Patch objects>)"
            ]
          },
          "metadata": {},
          "execution_count": 6
        },
        {
          "output_type": "display_data",
          "data": {
            "text/plain": [
              "<Figure size 432x288 with 1 Axes>"
            ],
            "image/png": "[encoded data removed]"
          },
          "metadata": {
            "needs_background": "light"
          }
        }
      ]
    },
    {
      "cell_type": "code",
      "source": [
        "skewed_arr = list(skewed_arr)\n",
        "mean_arr = []\n",
        "\n",
        "for i in range(int(10000/50)):\n",
        "  total = 0\n",
        "  for j in range(50):\n",
        "    random_num = random.choice(skewed_arr)\n",
        "    skewed_arr.remove(random_num)\n",
        "    total += random_num\n",
        "  mean_arr.append(total/2)\n",
        "\n",
        "plt.hist(mean_arr)"
      ],
      "metadata": {
        "colab": {
          "base_uri": "https://localhost:8080/",
          "height": 354
        },
        "id": "ylEgZ-5oxZCU",
        "outputId": "ccd55bcd-c86c-4001-8add-412d71daf87e"
      },
      "execution_count": 8,
      "outputs": [
        {
          "output_type": "execute_result",
          "data": {
            "text/plain": [
              "(array([ 2.,  7., 19., 26., 36., 43., 33., 17., 14.,  3.]),\n",
              " array([-26.98386273, -24.5350484 , -22.08623408, -19.63741975,\n",
              "        -17.18860543, -14.7397911 , -12.29097677,  -9.84216245,\n",
              "         -7.39334812,  -4.94453379,  -2.49571947]),\n",
              " <a list of 10 Patch objects>)"
            ]
          },
          "metadata": {},
          "execution_count": 8
        },
        {
          "output_type": "display_data",
          "data": {
            "text/plain": [
              "<Figure size 432x288 with 1 Axes>"
            ],
            "image/png": "[encoded data removed]"
          },
          "metadata": {
            "needs_background": "light"
          }
        }
      ]
    }
  ]
}