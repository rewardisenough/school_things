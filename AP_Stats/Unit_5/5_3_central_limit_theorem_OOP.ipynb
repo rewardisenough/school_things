{
  "nbformat": 4,
  "nbformat_minor": 0,
  "metadata": {
    "colab": {
      "provenance": [],
      "authorship_tag": "ABX9TyNl3c8aflR88AIAQfawkuSx",
      "include_colab_link": true
    },
    "kernelspec": {
      "name": "python3",
      "display_name": "Python 3"
    },
    "language_info": {
      "name": "python"
    }
  },
  "cells": [
    {
      "cell_type": "markdown",
      "metadata": {
        "id": "view-in-github",
        "colab_type": "text"
      },
      "source": [
        "<a href=\"https://colab.research.google.com/github/rewardisenough/school_things/blob/main/AP_Stats/Unit_5/5_3_central_limit_theorem_OOP.ipynb\" target=\"_parent\"><img src=\"https://colab.research.google.com/assets/colab-badge.svg\" alt=\"Open In Colab\"/></a>"
      ]
    },
    {
      "cell_type": "code",
      "source": [
        "# Central limit theorem\n",
        "'''\n",
        "Class Data: Has: Arrays that can store population proportion. Does: Generate data of different types(Normal, skewed data, etc...).\n",
        "Class Sampling: Has: Array that can store sample proportion and sample mean proportion. Does: Collect sample of n sizes from the population. Calculate the mean of sample proportion.\n",
        "'''"
      ],
      "metadata": {
        "colab": {
          "base_uri": "https://localhost:8080/",
          "height": 53
        },
        "id": "qaYU3Nfizxge",
        "outputId": "d8cc1dab-879e-4d8f-9575-f2e81b3bc178"
      },
      "execution_count": 9,
      "outputs": [
        {
          "output_type": "execute_result",
          "data": {
            "text/plain": [
              "'\\nClass Data: Has: Arrays that can store population proportion. Does: Generate data of different types(Normal, skewed data, etc...).\\nClass Sampling: Has: Array that can store sample proportion and sample mean proportion. Does: Collect sample of n sizes from the population. Calculate the mean of sample proportion.\\n'"
            ],
            "application/vnd.google.colaboratory.intrinsic+json": {
              "type": "string"
            }
          },
          "metadata": {},
          "execution_count": 9
        }
      ]
    },
    {
      "cell_type": "code",
      "source": [
        "# class for generating population proportion\n",
        "import numpy as np\n",
        "from numpy import random\n",
        "from scipy.stats import gumbel_l\n",
        "from scipy.stats import gumbel_r\n",
        "\n",
        "\n",
        "class Data:\n",
        "\n",
        "  def __init__(self,type,N):\n",
        "    self.type = type\n",
        "    self.population_data = []\n",
        "    self.population_size = int(N)\n",
        "\n",
        "  def generate_data(self,N):\n",
        "    if(self.type=='normal'):\n",
        "      self.population_data = np.random.normal(size=N)\n",
        "    elif(self.type=='uniform'):\n",
        "      self.population_data = np.random.uniform(-10,10,N)\n",
        "    elif(self.type=='skewed_right'):\n",
        "      self.population_data = gumbel_r.rvs(size=N)\n",
        "    elif(self.type=='skewed_left'):\n",
        "      self.population_data = gumbel_l.rvs(size=N)\n",
        "    else:\n",
        "      pass   \n",
        "    self.population_data = list(self.population_data) "
      ],
      "metadata": {
        "id": "2W60_6Y72W1F"
      },
      "execution_count": 3,
      "outputs": []
    },
    {
      "cell_type": "code",
      "source": [
        "# class for taking samples from population proportion and calculating the sample mean.\n",
        "import random\n",
        "\n",
        "class Sampling:\n",
        "\n",
        "  def __init__(self,n):\n",
        "    self.sample_size = int(n)\n",
        "    self.sample_data = []\n",
        "    \n",
        "  def take_sample(self,N,n,population_data):\n",
        "    arr = population_data\n",
        "    for i in range(int(N/n)):\n",
        "      total = 0\n",
        "      for k in range(n):\n",
        "        random_num = random.choice(arr)\n",
        "        arr.remove(random_num)\n",
        "        total += random_num\n",
        "      self.sample_data.append(total/n)\n",
        "  \n",
        "  def clear(self):\n",
        "    self.sample_data = []\n",
        "\n"
      ],
      "metadata": {
        "id": "yiscvO4J2wkS"
      },
      "execution_count": 4,
      "outputs": []
    },
    {
      "cell_type": "markdown",
      "source": [
        "population distribution: **Normal**"
      ],
      "metadata": {
        "id": "SoVxbU8aaEsC"
      }
    },
    {
      "cell_type": "code",
      "source": [
        "user1_data = Data('normal',100000)\n",
        "user1_sampling = Sampling(100)\n",
        "\n",
        "user1_data.generate_data(user1_data.population_size)\n",
        "user1_sampling.take_sample(10000,100,user1_data.population_data)\n",
        "\n",
        "import matplotlib.pyplot as plt\n",
        "\n",
        "plt.hist(user1_sampling.sample_data)"
      ],
      "metadata": {
        "colab": {
          "base_uri": "https://localhost:8080/",
          "height": 354
        },
        "id": "KEortbsYY6nq",
        "outputId": "5be8df51-f028-44b9-eda3-f54595e40cf2"
      },
      "execution_count": 5,
      "outputs": [
        {
          "output_type": "execute_result",
          "data": {
            "text/plain": [
              "(array([ 2.,  3.,  5.,  8., 13., 26., 10., 15.,  8., 10.]),\n",
              " array([-0.26387246, -0.2192016 , -0.17453074, -0.12985988, -0.08518902,\n",
              "        -0.04051816,  0.00415269,  0.04882355,  0.09349441,  0.13816527,\n",
              "         0.18283613]),\n",
              " <a list of 10 Patch objects>)"
            ]
          },
          "metadata": {},
          "execution_count": 5
        },
        {
          "output_type": "display_data",
          "data": {
            "text/plain": [
              "<Figure size 432x288 with 1 Axes>"
            ],
            "image/png": "[encoded data removed]"
          },
          "metadata": {
            "needs_background": "light"
          }
        }
      ]
    },
    {
      "cell_type": "markdown",
      "source": [
        "population distribution: **Uniform**"
      ],
      "metadata": {
        "id": "Gi23_oxzaTlI"
      }
    },
    {
      "cell_type": "code",
      "source": [
        "user2_data = Data('uniform',10000)\n",
        "user2_sampling = Sampling(200)\n",
        "\n",
        "user2_data.generate_data(user2_data.population_size)\n",
        "user2_sampling.take_sample(10000,100,user2_data.population_data)\n",
        "\n",
        "import matplotlib.pyplot as plt\n",
        "\n",
        "plt.hist(user2_sampling.sample_data)"
      ],
      "metadata": {
        "colab": {
          "base_uri": "https://localhost:8080/",
          "height": 354
        },
        "id": "m_g4ih0IaDMP",
        "outputId": "60d5ba0b-df65-4ee0-a495-92df9917dd9c"
      },
      "execution_count": 6,
      "outputs": [
        {
          "output_type": "execute_result",
          "data": {
            "text/plain": [
              "(array([ 4.,  9.,  9., 17., 19., 19., 14.,  5.,  2.,  2.]),\n",
              " array([-1.31181405, -1.02386254, -0.73591103, -0.44795953, -0.16000802,\n",
              "         0.12794349,  0.415895  ,  0.7038465 ,  0.99179801,  1.27974952,\n",
              "         1.56770103]),\n",
              " <a list of 10 Patch objects>)"
            ]
          },
          "metadata": {},
          "execution_count": 6
        },
        {
          "output_type": "display_data",
          "data": {
            "text/plain": [
              "<Figure size 432x288 with 1 Axes>"
            ],
            "image/png": "[encoded data removed]"
          },
          "metadata": {
            "needs_background": "light"
          }
        }
      ]
    },
    {
      "cell_type": "markdown",
      "source": [
        "population distribution: **Skewed_right**"
      ],
      "metadata": {
        "id": "H_crRMpbaoFI"
      }
    },
    {
      "cell_type": "code",
      "source": [
        "user3_data = Data('skewed_right',10000)\n",
        "user3_sampling = Sampling(200)\n",
        "\n",
        "user3_data.generate_data(user3_data.population_size)\n",
        "user3_sampling.take_sample(10000,100,user3_data.population_data)\n",
        "\n",
        "import matplotlib.pyplot as plt\n",
        "\n",
        "plt.hist(user3_sampling.sample_data)"
      ],
      "metadata": {
        "colab": {
          "base_uri": "https://localhost:8080/",
          "height": 354
        },
        "id": "nCpw3yRNaogj",
        "outputId": "b8bf30bf-d208-45c5-8867-6bd4b0a8925b"
      },
      "execution_count": 7,
      "outputs": [
        {
          "output_type": "execute_result",
          "data": {
            "text/plain": [
              "(array([ 2.,  3.,  9., 13., 25., 18., 17.,  8.,  3.,  2.]),\n",
              " array([0.16955362, 0.24619219, 0.32283075, 0.39946931, 0.47610788,\n",
              "        0.55274644, 0.62938501, 0.70602357, 0.78266213, 0.8593007 ,\n",
              "        0.93593926]),\n",
              " <a list of 10 Patch objects>)"
            ]
          },
          "metadata": {},
          "execution_count": 7
        },
        {
          "output_type": "display_data",
          "data": {
            "text/plain": [
              "<Figure size 432x288 with 1 Axes>"
            ],
            "image/png": "[encoded data removed]"
          },
          "metadata": {
            "needs_background": "light"
          }
        }
      ]
    },
    {
      "cell_type": "markdown",
      "source": [
        "population distribution: **Skewed_left**"
      ],
      "metadata": {
        "id": "rOnb8dCxax7K"
      }
    },
    {
      "cell_type": "code",
      "source": [
        "user4_data = Data('skewed_left',10000)\n",
        "user4_sampling = Sampling(1000)\n",
        "\n",
        "user4_data.generate_data(user4_data.population_size)\n",
        "user4_sampling.take_sample(10000,100,user4_data.population_data)\n",
        "\n",
        "import matplotlib.pyplot as plt\n",
        "\n",
        "plt.hist(user4_sampling.sample_data)"
      ],
      "metadata": {
        "id": "YrnvPK95bBkA",
        "colab": {
          "base_uri": "https://localhost:8080/",
          "height": 354
        },
        "outputId": "d5bf701a-2443-43fd-a0d1-d3a964e69f0f"
      },
      "execution_count": 8,
      "outputs": [
        {
          "output_type": "execute_result",
          "data": {
            "text/plain": [
              "(array([ 2.,  7.,  9., 13., 25., 20., 13.,  6.,  2.,  3.]),\n",
              " array([-0.86464215, -0.79867567, -0.73270919, -0.66674271, -0.60077623,\n",
              "        -0.53480975, -0.46884327, -0.40287679, -0.33691031, -0.27094383,\n",
              "        -0.20497735]),\n",
              " <a list of 10 Patch objects>)"
            ]
          },
          "metadata": {},
          "execution_count": 8
        },
        {
          "output_type": "display_data",
          "data": {
            "text/plain": [
              "<Figure size 432x288 with 1 Axes>"
            ],
            "image/png": "[encoded data removed]"
          },
          "metadata": {
            "needs_background": "light"
          }
        }
      ]
    }
  ]
}