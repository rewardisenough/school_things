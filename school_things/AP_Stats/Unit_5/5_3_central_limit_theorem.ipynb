{
  "nbformat": 4,
  "nbformat_minor": 0,
  "metadata": {
    "colab": {
      "provenance": [],
      "authorship_tag": "ABX9TyOh23Bq8eE9cOMLRAqAZaxH",
      "include_colab_link": true
    },
    "kernelspec": {
      "name": "python3",
      "display_name": "Python 3"
    },
    "language_info": {
      "name": "python"
    }
  },
  "cells": [
    {
      "cell_type": "markdown",
      "metadata": {
        "id": "view-in-github",
        "colab_type": "text"
      },
      "source": [
        "<a href=\"https://colab.research.google.com/github/rewardisenough/school_things/blob/main/school_things/AP_Stats/Unit_5/5_3_central_limit_theorem.ipynb\" target=\"_parent\"><img src=\"https://colab.research.google.com/assets/colab-badge.svg\" alt=\"Open In Colab\"/></a>"
      ]
    },
    {
      "cell_type": "code",
      "execution_count": 28,
      "metadata": {
        "id": "KX8peTQLLGpz"
      },
      "outputs": [],
      "source": [
        "import random"
      ]
    },
    {
      "cell_type": "code",
      "source": [
        "from numpy import random\n",
        "import matplotlib.pyplot as plt\n",
        "\n",
        "arr = random.normal(size=10000)"
      ],
      "metadata": {
        "id": "DgquNhNCMATd"
      },
      "execution_count": 51,
      "outputs": []
    },
    {
      "cell_type": "code",
      "source": [
        "arr = list(arr)\n",
        "mean_arr = []\n",
        "\n",
        "for i in range(int(10000/100)):\n",
        "  total = 0\n",
        "  for j in range(100):\n",
        "    random_num = random.choice(arr)\n",
        "    arr.remove(random_num)\n",
        "    total += random_num\n",
        "  mean_arr.append(total/2)\n",
        "\n",
        "print(mean_arr)\n",
        "plt.hist(mean_arr)"
      ],
      "metadata": {
        "colab": {
          "base_uri": "https://localhost:8080/",
          "height": 392
        },
        "id": "xVKOpSbkT9Hf",
        "outputId": "e8cb985f-59f5-4c71-bd2a-75ac0a994105"
      },
      "execution_count": 52,
      "outputs": [
        {
          "output_type": "stream",
          "name": "stdout",
          "text": [
            "[1.2708090840406596, -1.0647628303251735, -3.968761389653742, -0.30178449171726546, 3.0968490261711206, 10.147026314750521, -5.050567771052271, -1.0264270589360964, 7.0142335496966695, 1.13573532798994, 3.6004854623996403, -9.906428630007225, 2.4337778678635367, 6.64491070445048, -1.2630226197660264, -5.990351928371141, 4.454609566060066, -4.7244126890899185, 0.8582659474272256, -1.7210402109767422, -1.5985974829183038, -3.528673492808158, 3.450248397776024, 6.402068248322013, 8.166821006745414, -11.850197703739283, 2.5450208928266562, 4.883305095823409, 1.4241927911266024, 7.697680880001432, -7.156568450217697, 2.08786409183452, 7.88394419481925, -11.017839106821128, 0.014825733478141201, 7.514982048192377, -13.556751681113356, -10.029113749650755, 0.15005784972024439, 0.5605240847395249, 3.7692534152168626, 5.169034100669423, -8.086790799481898, -1.8211870189652113, -1.8028712268424065, -0.724603163749642, -5.783848262747812, -2.3532204420379585, 0.4333752177175706, 6.391316402101667, -4.394827746152846, 12.41187938849416, -12.88410823230115, 5.429877374991592, -3.6507490473809567, 6.907120019012087, 2.220900152139344, 1.0953929244858183, -0.42556352668462905, 5.890373088884579, 4.870683855529919, 9.859722344382599, 10.031043973401571, -2.53780568918701, 0.46413111823889774, -2.658992328053133, 1.794588063407096, 3.664186853519756, 4.274225383161284, 8.76772310572259, -4.417838152186366, -1.119402097341269, -0.8113980531940576, 9.84744115177941, -5.216679659754824, -5.078041472633318, -8.184798412425463, 3.24746714699493, -3.9152969899002237, 9.551404688442334, -6.314393258058942, -1.1419609969482418, -1.6074234302392043, 4.168208853867499, -5.5780740590139795, -0.869667720133483, 2.9333495216694208, -0.4467476069397843, -2.389787047160718, 0.8340102504471083, -4.057024458859614, 0.08994084530701596, 0.9388735194971247, -3.2591708358601164, 4.334372121375196, -0.25272120449656854, 1.5863963851750507, -0.9241835667723789, 1.3411726497908478, 8.700113398729435]\n"
          ]
        },
        {
          "output_type": "execute_result",
          "data": {
            "text/plain": [
              "(array([ 4.,  2.,  6., 13., 18., 20., 15., 10.,  7.,  5.]),\n",
              " array([-13.55675168, -10.95988857,  -8.36302547,  -5.76616236,\n",
              "         -3.16929925,  -0.57243615,   2.02442696,   4.62129007,\n",
              "          7.21815317,   9.81501628,  12.41187939]),\n",
              " <a list of 10 Patch objects>)"
            ]
          },
          "metadata": {},
          "execution_count": 52
        },
        {
          "output_type": "display_data",
          "data": {
            "text/plain": [
              "<Figure size 432x288 with 1 Axes>"
            ],
            "image/png": "[encoded data removed]"
          },
          "metadata": {
            "needs_background": "light"
          }
        }
      ]
    },
    {
      "cell_type": "code",
      "source": [
        "import numpy as np\n",
        "from scipy.stats import gumbel_l\n",
        "from scipy.stats import gumbel_r\n",
        "import matplotlib.pyplot as plt\n",
        "fig, ax = plt.subplots(1, 1)\n",
        "mean, var, skew, kurt = gumbel_l.stats(moments='mvsk')\n",
        "x = np.linspace(gumbel_l.ppf(0.01),\n",
        "                gumbel_l.ppf(0.99), 100)\n",
        "ax.plot(x, gumbel_l.pdf(x),\n",
        "       'r-', lw=5, alpha=0.6, label='gumbel_l pdf')"
      ],
      "metadata": {
        "colab": {
          "base_uri": "https://localhost:8080/",
          "height": 283
        },
        "id": "7s6K9XHbPgMo",
        "outputId": "8ec0aaa0-caad-4409-eb14-d7cd39476f5b"
      },
      "execution_count": null,
      "outputs": [
        {
          "output_type": "execute_result",
          "data": {
            "text/plain": [
              "[<matplotlib.lines.Line2D at 0x7ff66782edf0>]"
            ]
          },
          "metadata": {},
          "execution_count": 10
        },
        {
          "output_type": "display_data",
          "data": {
            "text/plain": [
              "<Figure size 432x288 with 1 Axes>"
            ],
            "image/png": "[encoded data removed]"
          },
          "metadata": {
            "needs_background": "light"
          }
        }
      ]
    },
    {
      "cell_type": "code",
      "source": [
        "skewed_arr = gumbel_l.rvs(size=10000)\n",
        "plt.hist(skewed_arr)"
      ],
      "metadata": {
        "id": "3bVwIRhePoDi",
        "colab": {
          "base_uri": "https://localhost:8080/",
          "height": 372
        },
        "outputId": "77ca63b2-189e-4d78-acd2-fb9c8ac2b101"
      },
      "execution_count": 91,
      "outputs": [
        {
          "output_type": "execute_result",
          "data": {
            "text/plain": [
              "(array([2.000e+00, 9.000e+00, 1.700e+01, 7.300e+01, 2.190e+02, 6.090e+02,\n",
              "        1.641e+03, 3.221e+03, 3.460e+03, 7.490e+02]),\n",
              " array([-8.91845957, -7.8227426 , -6.72702562, -5.63130865, -4.53559168,\n",
              "        -3.43987471, -2.34415774, -1.24844076, -0.15272379,  0.94299318,\n",
              "         2.03871015]),\n",
              " <a list of 10 Patch objects>)"
            ]
          },
          "metadata": {},
          "execution_count": 91
        },
        {
          "output_type": "display_data",
          "data": {
            "text/plain": [
              "<Figure size 432x288 with 1 Axes>"
            ],
            "image/png": "[encoded data removed]"
          },
          "metadata": {
            "needs_background": "light"
          }
        }
      ]
    },
    {
      "cell_type": "code",
      "source": [
        "skewed_arr = list(skewed_arr)\n",
        "mean_arr = []\n",
        "\n",
        "for i in range(int(10000/2)):\n",
        "  total = 0\n",
        "  for j in range(2):\n",
        "    random_num = random.choice(skewed_arr)\n",
        "    skewed_arr.remove(random_num)\n",
        "    total += random_num\n",
        "  mean_arr.append(total/2)\n",
        "\n",
        "plt.hist(mean_arr)"
      ],
      "metadata": {
        "colab": {
          "base_uri": "https://localhost:8080/",
          "height": 372
        },
        "id": "5ZP056bmXQUe",
        "outputId": "49856e45-8eba-4ab9-b883-56a03b60f42e"
      },
      "execution_count": 92,
      "outputs": [
        {
          "output_type": "execute_result",
          "data": {
            "text/plain": [
              "(array([   4.,    7.,   30.,   83.,  304.,  667., 1347., 1645.,  813.,\n",
              "         100.]),\n",
              " array([-5.46946232, -4.76025336, -4.0510444 , -3.34183544, -2.63262648,\n",
              "        -1.92341752, -1.21420856, -0.5049996 ,  0.20420936,  0.91341832,\n",
              "         1.62262728]),\n",
              " <a list of 10 Patch objects>)"
            ]
          },
          "metadata": {},
          "execution_count": 92
        },
        {
          "output_type": "display_data",
          "data": {
            "text/plain": [
              "<Figure size 432x288 with 1 Axes>"
            ],
            "image/png": "[encoded data removed]"
          },
          "metadata": {
            "needs_background": "light"
          }
        }
      ]
    }
  ]
}